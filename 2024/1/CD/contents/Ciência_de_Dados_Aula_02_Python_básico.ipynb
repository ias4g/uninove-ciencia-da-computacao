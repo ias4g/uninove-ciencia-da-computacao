{
  "nbformat": 4,
  "nbformat_minor": 0,
  "metadata": {
    "colab": {
      "provenance": []
    },
    "kernelspec": {
      "name": "python3",
      "display_name": "Python 3"
    },
    "language_info": {
      "name": "python"
    }
  },
  "cells": [
    {
      "cell_type": "markdown",
      "source": [
        "# Python básico\n",
        "\n",
        "- Variáveis\n",
        "- Operadores Aritméticos\n",
        "- Operadores Relacionais (de comparação)\n",
        "- Operadores Lógicos\n",
        "- Função input\n",
        "\n",
        "\n",
        "\n"
      ],
      "metadata": {
        "id": "58nbSOpu6wG7"
      }
    },
    {
      "cell_type": "markdown",
      "source": [
        "## Variáveis"
      ],
      "metadata": {
        "id": "mMnQvT1i8kIA"
      }
    },
    {
      "cell_type": "code",
      "execution_count": null,
      "metadata": {
        "id": "4oduYS3i6Ukc"
      },
      "outputs": [],
      "source": [
        "# var1 recebe o valor 23\n",
        "var1 = 23"
      ]
    },
    {
      "cell_type": "code",
      "source": [
        "# print na tela da var1\n",
        "print(var1)"
      ],
      "metadata": {
        "colab": {
          "base_uri": "https://localhost:8080/"
        },
        "id": "pWRBCCwY8ypT",
        "outputId": "2c036eae-dbe5-4315-b49e-9f7829be94e9"
      },
      "execution_count": null,
      "outputs": [
        {
          "output_type": "stream",
          "name": "stdout",
          "text": [
            "23\n"
          ]
        }
      ]
    },
    {
      "cell_type": "code",
      "source": [
        "# var2 recebe o valor 27\n",
        "var2 = 27"
      ],
      "metadata": {
        "id": "HLnZX6q380pB"
      },
      "execution_count": null,
      "outputs": []
    },
    {
      "cell_type": "code",
      "source": [
        "# print na tela da var2\n",
        "print(var2)"
      ],
      "metadata": {
        "colab": {
          "base_uri": "https://localhost:8080/"
        },
        "id": "hE99mlnbb5lQ",
        "outputId": "54fad847-f123-4abb-ab79-525479036fd6"
      },
      "execution_count": null,
      "outputs": [
        {
          "output_type": "stream",
          "name": "stdout",
          "text": [
            "27\n"
          ]
        }
      ]
    },
    {
      "cell_type": "code",
      "source": [
        "# print na tela da soma de var1 e var2\n",
        "print(var1+var2)"
      ],
      "metadata": {
        "colab": {
          "base_uri": "https://localhost:8080/"
        },
        "id": "ffzU9xC_83Vk",
        "outputId": "6377e15d-9080-48b6-8640-5624dee53bbc"
      },
      "execution_count": null,
      "outputs": [
        {
          "output_type": "stream",
          "name": "stdout",
          "text": [
            "50\n"
          ]
        }
      ]
    },
    {
      "cell_type": "code",
      "source": [
        "# var3 recebe o texto 16\n",
        "var3 = \"16\""
      ],
      "metadata": {
        "id": "TKybALkT84uW"
      },
      "execution_count": null,
      "outputs": []
    },
    {
      "cell_type": "code",
      "source": [
        "print(var3)"
      ],
      "metadata": {
        "colab": {
          "base_uri": "https://localhost:8080/"
        },
        "id": "RRA_ouNaXEoD",
        "outputId": "42d8541e-eeef-4f42-8674-f00558ce7281"
      },
      "execution_count": null,
      "outputs": [
        {
          "output_type": "stream",
          "name": "stdout",
          "text": [
            "16\n"
          ]
        }
      ]
    },
    {
      "cell_type": "code",
      "source": [
        "# print na tela da soma de var1, var2 e var3\n",
        "# Atenção: var1 e var2 são numéricas e var3 é texto\n",
        "print(var1+var2+var3)"
      ],
      "metadata": {
        "colab": {
          "base_uri": "https://localhost:8080/",
          "height": 200
        },
        "id": "ayudvDUs87vl",
        "outputId": "49b47383-c87e-4e6f-c9f7-9fe42cb83599"
      },
      "execution_count": null,
      "outputs": [
        {
          "output_type": "error",
          "ename": "TypeError",
          "evalue": "ignored",
          "traceback": [
            "\u001b[0;31m---------------------------------------------------------------------------\u001b[0m",
            "\u001b[0;31mTypeError\u001b[0m                                 Traceback (most recent call last)",
            "\u001b[0;32m<ipython-input-8-18d6cb0b45e3>\u001b[0m in \u001b[0;36m<module>\u001b[0;34m\u001b[0m\n\u001b[1;32m      1\u001b[0m \u001b[0;31m# print na tela da soma de var1, var2 e var3\u001b[0m\u001b[0;34m\u001b[0m\u001b[0;34m\u001b[0m\u001b[0;34m\u001b[0m\u001b[0m\n\u001b[1;32m      2\u001b[0m \u001b[0;31m# Atenção: var1 e var2 são numéricas e var3 é texto\u001b[0m\u001b[0;34m\u001b[0m\u001b[0;34m\u001b[0m\u001b[0;34m\u001b[0m\u001b[0m\n\u001b[0;32m----> 3\u001b[0;31m \u001b[0mprint\u001b[0m\u001b[0;34m(\u001b[0m\u001b[0mvar1\u001b[0m\u001b[0;34m+\u001b[0m\u001b[0mvar2\u001b[0m\u001b[0;34m+\u001b[0m\u001b[0mvar3\u001b[0m\u001b[0;34m)\u001b[0m\u001b[0;34m\u001b[0m\u001b[0;34m\u001b[0m\u001b[0m\n\u001b[0m",
            "\u001b[0;31mTypeError\u001b[0m: unsupported operand type(s) for +: 'int' and 'str'"
          ]
        }
      ]
    },
    {
      "cell_type": "code",
      "source": [
        "# var4 recebe o texto 200\n",
        "var4 = '200'"
      ],
      "metadata": {
        "id": "y5hHjznZ8_mM"
      },
      "execution_count": null,
      "outputs": []
    },
    {
      "cell_type": "code",
      "source": [
        "print(var4)"
      ],
      "metadata": {
        "colab": {
          "base_uri": "https://localhost:8080/"
        },
        "id": "9CbBTiB7W9x8",
        "outputId": "87c7c30f-61df-4db4-df42-649d491a980f"
      },
      "execution_count": null,
      "outputs": [
        {
          "output_type": "stream",
          "name": "stdout",
          "text": [
            "200\n"
          ]
        }
      ]
    },
    {
      "cell_type": "code",
      "source": [
        "# print na tela da soma de var3 e var4\n",
        "# como são duas variáveis texto, ele concatena\n",
        "print(var3+var4)"
      ],
      "metadata": {
        "colab": {
          "base_uri": "https://localhost:8080/"
        },
        "id": "Hsy7p8wB9B7D",
        "outputId": "2fa89cc7-d2b4-4ad7-c6b2-3f5e5d4ee1ca"
      },
      "execution_count": null,
      "outputs": [
        {
          "output_type": "stream",
          "name": "stdout",
          "text": [
            "16200\n"
          ]
        }
      ]
    },
    {
      "cell_type": "code",
      "source": [
        "# print na tela o tipo da variável var1\n",
        "type(var1)"
      ],
      "metadata": {
        "colab": {
          "base_uri": "https://localhost:8080/"
        },
        "id": "Y31JqJIH9KXG",
        "outputId": "42e96091-ea37-49b4-92b3-4a4d15432d95"
      },
      "execution_count": null,
      "outputs": [
        {
          "output_type": "execute_result",
          "data": {
            "text/plain": [
              "int"
            ]
          },
          "metadata": {},
          "execution_count": 13
        }
      ]
    },
    {
      "cell_type": "code",
      "source": [
        "# print na tela o tipo da variável var2\n",
        "type(var2)"
      ],
      "metadata": {
        "colab": {
          "base_uri": "https://localhost:8080/"
        },
        "id": "5h8NCONxcHjg",
        "outputId": "e81de934-509a-426c-f2b3-1d2bc383a400"
      },
      "execution_count": null,
      "outputs": [
        {
          "output_type": "execute_result",
          "data": {
            "text/plain": [
              "int"
            ]
          },
          "metadata": {},
          "execution_count": 14
        }
      ]
    },
    {
      "cell_type": "code",
      "source": [
        "# print na tela o tipo da variável var3\n",
        "type(var3)"
      ],
      "metadata": {
        "colab": {
          "base_uri": "https://localhost:8080/"
        },
        "id": "1EthljEXcH7i",
        "outputId": "3c6ae9f1-3b46-4ecf-e20e-459a776d7b2c"
      },
      "execution_count": null,
      "outputs": [
        {
          "output_type": "execute_result",
          "data": {
            "text/plain": [
              "str"
            ]
          },
          "metadata": {},
          "execution_count": 15
        }
      ]
    },
    {
      "cell_type": "code",
      "source": [
        "# print na tela o tipo da variável var4\n",
        "type(var4)"
      ],
      "metadata": {
        "colab": {
          "base_uri": "https://localhost:8080/"
        },
        "id": "QAwqNLF29W_F",
        "outputId": "a32e4f32-e79f-4f96-a052-cad52ecda5f9"
      },
      "execution_count": null,
      "outputs": [
        {
          "output_type": "execute_result",
          "data": {
            "text/plain": [
              "str"
            ]
          },
          "metadata": {},
          "execution_count": 16
        }
      ]
    },
    {
      "cell_type": "code",
      "source": [
        "# var1, var2, var3 recebem os valores\n",
        "var1, var2, var3 = 1, 2, 3"
      ],
      "metadata": {
        "id": "MP2TP76s9ZFC"
      },
      "execution_count": null,
      "outputs": []
    },
    {
      "cell_type": "code",
      "source": [
        "# print na tela das variáveis var1, var2, var3\n",
        "print(var1,var2,var3)"
      ],
      "metadata": {
        "colab": {
          "base_uri": "https://localhost:8080/"
        },
        "id": "RxxLvxRf9hvJ",
        "outputId": "949ab91c-f27f-4d5d-e5f1-ac79c294f487"
      },
      "execution_count": null,
      "outputs": [
        {
          "output_type": "stream",
          "name": "stdout",
          "text": [
            "1 2 3\n"
          ]
        }
      ]
    },
    {
      "cell_type": "code",
      "source": [
        "# criando uma variável texto que recebe um texto\n",
        "texto = 'Python é uma boa ferramenta'"
      ],
      "metadata": {
        "id": "lokC__bK9kT0"
      },
      "execution_count": null,
      "outputs": []
    },
    {
      "cell_type": "code",
      "source": [
        "print(texto)"
      ],
      "metadata": {
        "colab": {
          "base_uri": "https://localhost:8080/"
        },
        "id": "X1Vps8qibHtz",
        "outputId": "1f6f7dc9-65b1-48df-c6b0-756d5ce113a4"
      },
      "execution_count": null,
      "outputs": [
        {
          "output_type": "stream",
          "name": "stdout",
          "text": [
            "Python é uma boa ferramenta\n"
          ]
        }
      ]
    },
    {
      "cell_type": "code",
      "source": [
        "texto"
      ],
      "metadata": {
        "colab": {
          "base_uri": "https://localhost:8080/",
          "height": 35
        },
        "id": "K2hkjShk90jS",
        "outputId": "e8bc69a5-9472-424b-9faa-b2bd9b82a6cd"
      },
      "execution_count": null,
      "outputs": [
        {
          "output_type": "execute_result",
          "data": {
            "text/plain": [
              "'Python é uma boa ferramenta'"
            ],
            "application/vnd.google.colaboratory.intrinsic+json": {
              "type": "string"
            }
          },
          "metadata": {},
          "execution_count": 21
        }
      ]
    },
    {
      "cell_type": "code",
      "source": [
        "x = \"UNIVERSIDADE\"\n",
        "y = \"UNINOVE\"\n",
        "a = 10\n",
        "print(\"Bem vindo à \"+x + \" \" +y + \", ela é nota\", a)"
      ],
      "metadata": {
        "colab": {
          "base_uri": "https://localhost:8080/"
        },
        "id": "JnE9LHGxVh1A",
        "outputId": "6520c97a-05aa-4b80-eafe-fa6858b235bc"
      },
      "execution_count": null,
      "outputs": [
        {
          "output_type": "stream",
          "name": "stdout",
          "text": [
            "Bem vindo à UNIVERSIDADE UNINOVE, ela é nota 10\n"
          ]
        }
      ]
    },
    {
      "cell_type": "code",
      "source": [
        "# var 5 recebe verdadeiro\n",
        "var5 = True"
      ],
      "metadata": {
        "id": "JMAFT9Mt-r6p"
      },
      "execution_count": null,
      "outputs": []
    },
    {
      "cell_type": "code",
      "source": [
        "# print na tela o tipo da variável var5\n",
        "type(var5)"
      ],
      "metadata": {
        "colab": {
          "base_uri": "https://localhost:8080/"
        },
        "id": "dfubAFrY_E1n",
        "outputId": "292c34d6-a46a-4388-e3ea-bad24a059a1c"
      },
      "execution_count": null,
      "outputs": [
        {
          "output_type": "execute_result",
          "data": {
            "text/plain": [
              "bool"
            ]
          },
          "metadata": {},
          "execution_count": 23
        }
      ]
    },
    {
      "cell_type": "code",
      "source": [
        "# Conversão de tipos de dados\n",
        "\n",
        "print(3.14, int(3.14))\n",
        "print(3.9999, int(3.9999))\n",
        "print(3.0,int(3.0))\n",
        "print(-3.999,int(-3.999))"
      ],
      "metadata": {
        "colab": {
          "base_uri": "https://localhost:8080/"
        },
        "id": "oNu3FsQnC0ST",
        "outputId": "877fa45c-389c-4dd5-9797-93fee93bad53"
      },
      "execution_count": null,
      "outputs": [
        {
          "output_type": "stream",
          "name": "stdout",
          "text": [
            "3.14 3\n",
            "3.9999 3\n",
            "3.0 3\n",
            "-3.999 -3\n"
          ]
        }
      ]
    },
    {
      "cell_type": "code",
      "execution_count": null,
      "metadata": {
        "id": "yOJOwwXWyFxZ",
        "colab": {
          "base_uri": "https://localhost:8080/"
        },
        "outputId": "24572730-197f-49ee-b9d0-8f89ef2111c4"
      },
      "outputs": [
        {
          "output_type": "stream",
          "name": "stdout",
          "text": [
            "1\n",
            "2\n",
            "3\n"
          ]
        }
      ],
      "source": [
        "x = int(1)   # x irá se transformar em 1\n",
        "print(x)\n",
        "y = int(2.8) # y irá se transformar em 2\n",
        "print(y)\n",
        "z = int(\"3\") # z irá se transformar em 3\n",
        "print(z)"
      ]
    },
    {
      "cell_type": "code",
      "execution_count": null,
      "metadata": {
        "id": "EwkNacyKyM8T",
        "colab": {
          "base_uri": "https://localhost:8080/"
        },
        "outputId": "c6fd70dc-edf3-4c4a-db47-14c5d8354a1e"
      },
      "outputs": [
        {
          "output_type": "stream",
          "name": "stdout",
          "text": [
            "1.0\n",
            "2.8\n",
            "3.0\n",
            "4.2\n"
          ]
        }
      ],
      "source": [
        "# Float\n",
        "x = float(1)     # x irá se transformar em 1.0\n",
        "print(x)\n",
        "y = float(2.8)   # y irá se transformar em 2.8\n",
        "print(y)\n",
        "z = float(\"3\")   # z irá se transformar em 3.0\n",
        "print(z)\n",
        "w = float(\"4.2\") # w irá se transformar em 4.2\n",
        "print(w)"
      ]
    },
    {
      "cell_type": "code",
      "execution_count": null,
      "metadata": {
        "id": "cmMtmV0SyTc_",
        "colab": {
          "base_uri": "https://localhost:8080/"
        },
        "outputId": "0addbe10-2b11-4d68-d599-1358bbb21cd7"
      },
      "outputs": [
        {
          "output_type": "stream",
          "name": "stdout",
          "text": [
            "s1\n",
            "2\n",
            "3.0\n"
          ]
        }
      ],
      "source": [
        "# String\n",
        "x = str(\"s1\") # x irá se transformar em 's1'\n",
        "print(x)\n",
        "y = str(2)    # y irá se transformar em '2'\n",
        "print(y)\n",
        "z = str(3.0)  # z irá se transformar em '3.0'\n",
        "print(z)"
      ]
    },
    {
      "cell_type": "code",
      "source": [
        "print(type(x))\n",
        "print(type(y))\n",
        "print(type(z))"
      ],
      "metadata": {
        "colab": {
          "base_uri": "https://localhost:8080/"
        },
        "id": "l-a2ZihJxVig",
        "outputId": "bdd5dc49-4053-424e-c1de-30a697c12548"
      },
      "execution_count": null,
      "outputs": [
        {
          "output_type": "stream",
          "name": "stdout",
          "text": [
            "<class 'str'>\n",
            "<class 'str'>\n",
            "<class 'str'>\n"
          ]
        }
      ]
    },
    {
      "cell_type": "code",
      "source": [
        "print(type(var1))\n",
        "print(type(y))\n",
        "print(type(z))"
      ],
      "metadata": {
        "colab": {
          "base_uri": "https://localhost:8080/"
        },
        "id": "SAOO0XR-2t-p",
        "outputId": "476a0fd5-01de-45b0-8653-26343399735b"
      },
      "execution_count": null,
      "outputs": [
        {
          "output_type": "stream",
          "name": "stdout",
          "text": [
            "<class 'int'>\n",
            "<class 'str'>\n",
            "<class 'str'>\n"
          ]
        }
      ]
    },
    {
      "cell_type": "code",
      "source": [
        "# Arredondar valores\n",
        "\n",
        "soma = 0.1 + 0.2\n",
        "print(soma)\n",
        "print(\"%.2f\" % soma)\n",
        "print(round(soma, 2))\n",
        "print(\"{0:.2f}\".format(soma))"
      ],
      "metadata": {
        "id": "fT_BH5bgDI1m",
        "colab": {
          "base_uri": "https://localhost:8080/"
        },
        "outputId": "86820963-9f05-4175-f03e-8266646d0203"
      },
      "execution_count": null,
      "outputs": [
        {
          "output_type": "stream",
          "name": "stdout",
          "text": [
            "0.30000000000000004\n",
            "0.30\n",
            "0.3\n",
            "0.30\n"
          ]
        }
      ]
    },
    {
      "cell_type": "markdown",
      "source": [
        "## Operadores aritméticos"
      ],
      "metadata": {
        "id": "fwaRH19A_Lt0"
      }
    },
    {
      "cell_type": "code",
      "source": [
        "# Adição\n",
        "23 + 27"
      ],
      "metadata": {
        "colab": {
          "base_uri": "https://localhost:8080/"
        },
        "id": "bwrX0A7c_Hnl",
        "outputId": "6f091ec2-1e26-40aa-cf70-6641e670c912"
      },
      "execution_count": null,
      "outputs": [
        {
          "output_type": "execute_result",
          "data": {
            "text/plain": [
              "50"
            ]
          },
          "metadata": {},
          "execution_count": 24
        }
      ]
    },
    {
      "cell_type": "code",
      "source": [
        "# Subtração\n",
        "27 - 23"
      ],
      "metadata": {
        "colab": {
          "base_uri": "https://localhost:8080/"
        },
        "id": "E5PrqjyL_Swy",
        "outputId": "960ec553-21eb-4cc8-9ae2-7e089766b50a"
      },
      "execution_count": null,
      "outputs": [
        {
          "output_type": "execute_result",
          "data": {
            "text/plain": [
              "4"
            ]
          },
          "metadata": {},
          "execution_count": 25
        }
      ]
    },
    {
      "cell_type": "code",
      "source": [
        "# Subtração\n",
        "23 - 27"
      ],
      "metadata": {
        "colab": {
          "base_uri": "https://localhost:8080/"
        },
        "id": "m1LH5DVlcuCp",
        "outputId": "5f6078e5-fb52-4c06-ed5c-c55d1788c0ba"
      },
      "execution_count": null,
      "outputs": [
        {
          "output_type": "execute_result",
          "data": {
            "text/plain": [
              "-4"
            ]
          },
          "metadata": {},
          "execution_count": 26
        }
      ]
    },
    {
      "cell_type": "code",
      "source": [
        "# Multiplicação\n",
        "23 * 27"
      ],
      "metadata": {
        "colab": {
          "base_uri": "https://localhost:8080/"
        },
        "id": "bnY16LQi_WW2",
        "outputId": "f481bec3-d4a5-4cd3-80a3-3a9559a9d702"
      },
      "execution_count": null,
      "outputs": [
        {
          "output_type": "execute_result",
          "data": {
            "text/plain": [
              "621"
            ]
          },
          "metadata": {},
          "execution_count": 27
        }
      ]
    },
    {
      "cell_type": "code",
      "source": [
        "# Divisão\n",
        "23 / 27"
      ],
      "metadata": {
        "colab": {
          "base_uri": "https://localhost:8080/"
        },
        "id": "vlJQ0zKW_nXU",
        "outputId": "93ad4012-c0a3-4f75-9185-90611a195f9a"
      },
      "execution_count": null,
      "outputs": [
        {
          "output_type": "execute_result",
          "data": {
            "text/plain": [
              "0.8518518518518519"
            ]
          },
          "metadata": {},
          "execution_count": 28
        }
      ]
    },
    {
      "cell_type": "code",
      "source": [
        "# Potência\n",
        "23**2"
      ],
      "metadata": {
        "colab": {
          "base_uri": "https://localhost:8080/"
        },
        "id": "ck66-czQc3HP",
        "outputId": "44bb382a-e557-4332-9762-7a69bdea2a38"
      },
      "execution_count": null,
      "outputs": [
        {
          "output_type": "execute_result",
          "data": {
            "text/plain": [
              "529"
            ]
          },
          "metadata": {},
          "execution_count": 29
        }
      ]
    },
    {
      "cell_type": "code",
      "source": [
        "# Resto de divisão\n",
        "10%3"
      ],
      "metadata": {
        "colab": {
          "base_uri": "https://localhost:8080/"
        },
        "id": "sI2IkUAA_sOr",
        "outputId": "ec65b881-157c-41b7-82c9-d7ea4087de44"
      },
      "execution_count": null,
      "outputs": [
        {
          "output_type": "execute_result",
          "data": {
            "text/plain": [
              "1"
            ]
          },
          "metadata": {},
          "execution_count": 30
        }
      ]
    },
    {
      "cell_type": "markdown",
      "source": [
        "## Operadores Relacionais (ou de comparação)"
      ],
      "metadata": {
        "id": "-p1s9CMG_2N6"
      }
    },
    {
      "cell_type": "code",
      "source": [
        "# Sinal de igual no Python é atribuição (recebe).\n",
        "# Neste caso estamos atribuindo o valor 23 a variável dois\n",
        "dois = 23\n",
        "print(dois)"
      ],
      "metadata": {
        "id": "fWRLJWUt_w-B",
        "colab": {
          "base_uri": "https://localhost:8080/"
        },
        "outputId": "19d2d2ed-09dd-42f0-86c1-0d88bd6e29c3"
      },
      "execution_count": null,
      "outputs": [
        {
          "output_type": "stream",
          "name": "stdout",
          "text": [
            "23\n"
          ]
        }
      ]
    },
    {
      "cell_type": "code",
      "source": [
        "# Duplo igual (==) é comparação, neste caso o conteúdo da variável dois é igual a 23\n",
        "# Deve retornar true\n",
        "dois == 23"
      ],
      "metadata": {
        "colab": {
          "base_uri": "https://localhost:8080/"
        },
        "id": "qAWbXAPSAA_3",
        "outputId": "b20c78cc-5e1c-4add-85e8-5299cb50ca05"
      },
      "execution_count": null,
      "outputs": [
        {
          "output_type": "execute_result",
          "data": {
            "text/plain": [
              "True"
            ]
          },
          "metadata": {},
          "execution_count": 32
        }
      ]
    },
    {
      "cell_type": "code",
      "source": [
        "# Exclamação e símbolo de igual no Python é comparação para diferente\n",
        "# Neste caso o conteúdo da variável dois é diferente de 23.\n",
        "dois != 23"
      ],
      "metadata": {
        "colab": {
          "base_uri": "https://localhost:8080/"
        },
        "id": "2pRxihnrABlf",
        "outputId": "9acd7e02-bd95-4737-ef5b-fb7d9ca1853a"
      },
      "execution_count": null,
      "outputs": [
        {
          "output_type": "execute_result",
          "data": {
            "text/plain": [
              "False"
            ]
          },
          "metadata": {},
          "execution_count": 33
        }
      ]
    },
    {
      "cell_type": "code",
      "source": [
        "# Comparação de maior e menor da mesma forma que outras linguagens usando < para menor e > para maior\n",
        "dois < 23"
      ],
      "metadata": {
        "colab": {
          "base_uri": "https://localhost:8080/"
        },
        "id": "xiNA4SEMAZya",
        "outputId": "c35c78d3-c9d7-4592-ef2c-03b132a8596f"
      },
      "execution_count": null,
      "outputs": [
        {
          "output_type": "execute_result",
          "data": {
            "text/plain": [
              "False"
            ]
          },
          "metadata": {},
          "execution_count": 34
        }
      ]
    },
    {
      "cell_type": "code",
      "source": [
        "# Comparação de maior e menor (igual) da mesma forma que outras linguagens\n",
        "# Usando <= para menor ou igual e >= para maior ou igual\n",
        "dois <= 23"
      ],
      "metadata": {
        "colab": {
          "base_uri": "https://localhost:8080/"
        },
        "id": "b9IA9X66dlIz",
        "outputId": "a4dcea22-1c81-4a81-a117-a0b79d714d99"
      },
      "execution_count": null,
      "outputs": [
        {
          "output_type": "execute_result",
          "data": {
            "text/plain": [
              "True"
            ]
          },
          "metadata": {},
          "execution_count": 5
        }
      ]
    },
    {
      "cell_type": "code",
      "source": [
        "# Comparação de maior e menor da mesma forma que outras linguagens usando < para menor e > para maior\n",
        "dois > 23"
      ],
      "metadata": {
        "colab": {
          "base_uri": "https://localhost:8080/"
        },
        "id": "s2qdefcOAteC",
        "outputId": "b2b30bdb-c4c5-40ee-a113-7379410b97e7"
      },
      "execution_count": null,
      "outputs": [
        {
          "output_type": "execute_result",
          "data": {
            "text/plain": [
              "False"
            ]
          },
          "metadata": {},
          "execution_count": 36
        }
      ]
    },
    {
      "cell_type": "code",
      "source": [
        "# Comparação de maior e menor da mesma forma que outras linguagens\n",
        "# Usando <= para menor ou igual e >= para maior ou igual\n",
        "dois >= 23"
      ],
      "metadata": {
        "id": "tb1pWFzUdsgl",
        "colab": {
          "base_uri": "https://localhost:8080/"
        },
        "outputId": "918578c3-6dd0-4fc2-b30a-8f6d30791f5f"
      },
      "execution_count": null,
      "outputs": [
        {
          "output_type": "execute_result",
          "data": {
            "text/plain": [
              "True"
            ]
          },
          "metadata": {},
          "execution_count": 37
        }
      ]
    },
    {
      "cell_type": "markdown",
      "source": [
        "## Operadores lógicos"
      ],
      "metadata": {
        "id": "Pd5dNPzYBOCr"
      }
    },
    {
      "cell_type": "code",
      "source": [
        "# Variável Mentira recebe False\n",
        "Mentira = False"
      ],
      "metadata": {
        "id": "2BP_C1uUAuqL"
      },
      "execution_count": null,
      "outputs": []
    },
    {
      "cell_type": "code",
      "source": [
        "# Variável Verdade recebe True\n",
        "Verdade = True"
      ],
      "metadata": {
        "id": "B32Qlc3vBT34"
      },
      "execution_count": null,
      "outputs": []
    },
    {
      "cell_type": "code",
      "source": [
        "# Verdade E Mentira\n",
        "Verdade and Mentira"
      ],
      "metadata": {
        "colab": {
          "base_uri": "https://localhost:8080/"
        },
        "id": "2xwLbdHJBVCd",
        "outputId": "e63c83cc-7883-4d9d-9980-d9d012957f57"
      },
      "execution_count": null,
      "outputs": [
        {
          "output_type": "execute_result",
          "data": {
            "text/plain": [
              "False"
            ]
          },
          "metadata": {},
          "execution_count": 40
        }
      ]
    },
    {
      "cell_type": "code",
      "source": [
        "# Verdade E Mentira\n",
        "Verdade & Mentira"
      ],
      "metadata": {
        "colab": {
          "base_uri": "https://localhost:8080/"
        },
        "id": "P7MgrnXhBcSf",
        "outputId": "7fe12eb4-9fe5-4a00-dd1b-44b889bc5657"
      },
      "execution_count": null,
      "outputs": [
        {
          "output_type": "execute_result",
          "data": {
            "text/plain": [
              "False"
            ]
          },
          "metadata": {},
          "execution_count": 41
        }
      ]
    },
    {
      "cell_type": "code",
      "source": [
        "# Verdade OU Mentira\n",
        "Verdade or Mentira"
      ],
      "metadata": {
        "colab": {
          "base_uri": "https://localhost:8080/"
        },
        "id": "jwWPZp0eBkq3",
        "outputId": "a9dd6604-17ca-43e0-9433-f6f4ec761119"
      },
      "execution_count": null,
      "outputs": [
        {
          "output_type": "execute_result",
          "data": {
            "text/plain": [
              "True"
            ]
          },
          "metadata": {},
          "execution_count": 42
        }
      ]
    },
    {
      "cell_type": "code",
      "source": [
        "# Verdade OU Mentira\n",
        "Verdade | Mentira"
      ],
      "metadata": {
        "colab": {
          "base_uri": "https://localhost:8080/"
        },
        "id": "CEEEubr5BoCF",
        "outputId": "7c740510-49bc-4f05-9463-8f7eb0eef0de"
      },
      "execution_count": null,
      "outputs": [
        {
          "output_type": "execute_result",
          "data": {
            "text/plain": [
              "True"
            ]
          },
          "metadata": {},
          "execution_count": 43
        }
      ]
    },
    {
      "cell_type": "code",
      "source": [
        "# Negação\n",
        "not Mentira"
      ],
      "metadata": {
        "colab": {
          "base_uri": "https://localhost:8080/"
        },
        "id": "MJeAd1nYBuMJ",
        "outputId": "754f76a1-a6a9-4101-e286-cb19c22a785a"
      },
      "execution_count": null,
      "outputs": [
        {
          "output_type": "execute_result",
          "data": {
            "text/plain": [
              "True"
            ]
          },
          "metadata": {},
          "execution_count": 44
        }
      ]
    },
    {
      "cell_type": "code",
      "source": [
        "# Negação\n",
        "not Verdade"
      ],
      "metadata": {
        "colab": {
          "base_uri": "https://localhost:8080/"
        },
        "id": "H6CApuHuBywQ",
        "outputId": "42801326-1d9a-4863-8822-9559de16518c"
      },
      "execution_count": null,
      "outputs": [
        {
          "output_type": "execute_result",
          "data": {
            "text/plain": [
              "False"
            ]
          },
          "metadata": {},
          "execution_count": 45
        }
      ]
    },
    {
      "cell_type": "code",
      "source": [
        "# Negação com o operador AND\n",
        "Verdade and not Mentira"
      ],
      "metadata": {
        "colab": {
          "base_uri": "https://localhost:8080/"
        },
        "id": "UXB79L1qB0R1",
        "outputId": "04c01668-25e4-4746-f372-5fccefb21ef0"
      },
      "execution_count": null,
      "outputs": [
        {
          "output_type": "execute_result",
          "data": {
            "text/plain": [
              "True"
            ]
          },
          "metadata": {},
          "execution_count": 46
        }
      ]
    },
    {
      "cell_type": "code",
      "source": [
        "# Combinação de negação com operador AND\n",
        "not Verdade and not Mentira"
      ],
      "metadata": {
        "colab": {
          "base_uri": "https://localhost:8080/"
        },
        "id": "IFEbJiKEB4yd",
        "outputId": "7f0ef164-a79b-4e30-8154-cac5b0c8e6ac"
      },
      "execution_count": null,
      "outputs": [
        {
          "output_type": "execute_result",
          "data": {
            "text/plain": [
              "False"
            ]
          },
          "metadata": {},
          "execution_count": 47
        }
      ]
    },
    {
      "cell_type": "markdown",
      "source": [
        "## Função input"
      ],
      "metadata": {
        "id": "Ip2iXy4O8Z-S"
      }
    },
    {
      "cell_type": "code",
      "source": [
        "print(\"dados do aluno\")\n",
        "nome = input(\"informe seu nome: \")\n",
        "idade = input (\"informe sua idade: \")\n",
        "print (nome, \"você tem\", idade, \"anos!!\")"
      ],
      "metadata": {
        "id": "eModGDsJ8auW",
        "colab": {
          "base_uri": "https://localhost:8080/"
        },
        "outputId": "138f0810-9af6-4672-b54b-36351bac4d5e"
      },
      "execution_count": null,
      "outputs": [
        {
          "output_type": "stream",
          "name": "stdout",
          "text": [
            "dados do aluno\n",
            "informe seu nome: Solange\n",
            "informe sua idade: 35\n",
            "Solange você tem 35 anos!!\n"
          ]
        }
      ]
    },
    {
      "cell_type": "code",
      "source": [
        "# Exemplos de comentário\n",
        "\n",
        "# Criando x = 1\n",
        "x=1\n",
        "print(x)\n",
        "\n",
        "y=1 # Criando y = 1\n",
        "print(y)\n",
        "\n",
        "\"\"\"\n",
        "Criando z = 1\n",
        "\"\"\"\n",
        "z=1\n",
        "print(z)"
      ],
      "metadata": {
        "colab": {
          "base_uri": "https://localhost:8080/"
        },
        "id": "9pGZF2YxE1cW",
        "outputId": "a46b45e0-1a02-4dad-9ea5-f3a8415dad35"
      },
      "execution_count": null,
      "outputs": [
        {
          "output_type": "stream",
          "name": "stdout",
          "text": [
            "1\n",
            "1\n",
            "1\n"
          ]
        }
      ]
    }
  ]
}