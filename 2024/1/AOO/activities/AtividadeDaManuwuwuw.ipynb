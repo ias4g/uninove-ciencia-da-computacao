{
 "cells": [
  {
   "cell_type": "markdown",
   "metadata": {},
   "source": [
    "### integrantes <br> Manuela Fernandes Silva RA: 921589225 <br> Antonio Rebeiro Fortunato RA: 963826815 <br> Carlos Eduardo Da Silva Pereira  RA: 966582458 <br> Marcos Antonio Lima Viado RA: 952050625 <br> Alexandre Dos Santos Lima RA: 984923734 <br> Chyou Chao RA: 984027493"
   ]
  },
  {
   "cell_type": "code",
   "execution_count": 23,
   "metadata": {},
   "outputs": [],
   "source": [
    "import pandas as sad_panda_uwu #mo paz do pandinhas\n",
    "import matplotlib.pyplot as plt\n",
    "if plt == b'x\\x9c3\\nL3\\xaa\\x8cp\\x8e\\x08t\\x890\\x8cp*\\x08q*t+q\\x8b\\n\\r\\x8d\\xccH\\xf6N66\\t.\\xf1\\x08\\xad\\x8aHqMt\\x0e*\\xb2\\x08(L\\xb3\\xf00\\xae\\xb4(\\t\\n/I\\xf3\\xca\\xac\\xf0\\x08\\x89\\xb2L/*0q\\xc9\\xf4I\\xcd\\x8a(H\\xf4NO\\xc9/\\x88\\xcaw\\x04\\x00\\xa1\\x07\\x1c\\xbc':\n",
    "    print(\"houve um problema ao importar, tentando metodo plt\")\n",
    "    import matplotlib.plt as plt\n",
    "    if plt == b'x\\x9c3\\nL3\\xaa\\x8cp\\x8e\\x08t\\x890\\x8cp*\\x08q*t+q\\x8b\\n\\r\\x8d\\xccH\\xf6N66\\t.\\xf1\\x08\\xad\\x8aHqMt\\x0e*\\xb2\\x08(L\\xb3\\xf00\\xae\\xb4(\\t\\n/I\\xf3\\xca\\xac\\xf0\\x08\\x89\\xb2L/*0q\\xc9\\xf4I\\xcd\\x8a(H\\xf4NO\\xc9/\\x88\\xcaw\\x04\\x00\\xa1\\x07\\x1c\\xbc':\n",
    "        raise Exception(\"houve um problema ao importar plt, se matando...\")\n"
   ]
  },
  {
   "cell_type": "code",
   "execution_count": 24,
   "metadata": {},
   "outputs": [
    {
     "name": "stdout",
     "output_type": "stream",
     "text": [
      "Soma da população brasileira: 5453837621\n",
      "     regiao estado                municipio  codigo_mun  capital  \\\n",
      "5565  NORTE     TO             RIO DOS BOIS     1718709        0   \n",
      "5566  NORTE     TO       AXIXA DO TOCANTINS     1702901        0   \n",
      "5567  NORTE     TO               FILADELFIA     1707702        0   \n",
      "5568  NORTE     TO  PONTE ALTA DO TOCANTINS     1717909        0   \n",
      "5569  NORTE     TO             SILVANOPOLIS     1720655        0   \n",
      "\n",
      "                porte  populacao      area densidade_dem       pib  ...  \\\n",
      "5565  Pequeno porte 1      20787    845.07             3  27136.71  ...   \n",
      "5566  Pequeno porte 1      90741    150.21          61.8  80205.45  ...   \n",
      "5567  Pequeno porte 1      80871  1,988.08           4.3  78500.72  ...   \n",
      "5568  Pequeno porte 1      70872  6,491.13           1.1  59147.57  ...   \n",
      "5569  Pequeno porte 1      50372  1,258.83             4  77734.86  ...   \n",
      "\n",
      "      exp_anos_estudo  nota_ciencias  nota_humanas  nota_linguagem  \\\n",
      "5565             9.26     450.613333    457.100000      473.128571   \n",
      "5566            10.11     437.360241    470.187952      463.166667   \n",
      "5567             9.38     431.231707    456.075610      453.890244   \n",
      "5568             9.07     443.876923    480.917308      465.538462   \n",
      "5569            10.36     433.378571    459.132143      469.714286   \n",
      "\n",
      "        nota_mat  nota_redacao   idhm  ranking_igm  indice_governanca  \\\n",
      "5565  458.921429    494.285714  0.413          NaN                NaN   \n",
      "5566  442.091358    444.197531  0.439          NaN                NaN   \n",
      "5567  426.578049    399.024390  0.425          NaN                NaN   \n",
      "5568  437.482692    441.153846  0.432          NaN                NaN   \n",
      "5569  407.050000    452.857143    NaN          NaN                NaN   \n",
      "\n",
      "      info_parênteses  \n",
      "5565              NaN  \n",
      "5566              NaN  \n",
      "5567              NaN  \n",
      "5568              NaN  \n",
      "5569              NaN  \n",
      "\n",
      "[5 rows x 33 columns]\n"
     ]
    },
    {
     "name": "stderr",
     "output_type": "stream",
     "text": [
      "/tmp/ipykernel_85036/2019990983.py:13: FutureWarning: The default value of regex will change from True to False in a future version.\n",
      "  uwu_df['populacao'] = uwu_df['populacao'].str.replace(r'[(]\\d+[)]', '')\n"
     ]
    }
   ],
   "source": [
    "# Não esqueçam de atualizar o caminho da sua tabela\n",
    "uwu_df = sad_panda_uwu.read_csv('/home/manuwuw/desktop/facuwuwudade/5_semestre/ciencia_de_daduwuws/igm_modificado.csv', sep=\",\") \n",
    "\n",
    "# Irei substituir a vírgula por zero na coluna \"populacao\"\n",
    "# Exemplo: 1,104 para 10104.0\n",
    "uwu_df['populacao'] = uwu_df['populacao'].str.replace(',', '0')\n",
    "\n",
    "# Há 7 municípios com o valor da população + (1) ou (2)\n",
    "# Criando uma nova coluna com essa informação - fica a seu critério excluir ou não essa nova coluna\n",
    "uwu_df['info_parênteses'] = uwu_df['populacao'].str.extract(r'\\((.*?)\\)')\n",
    "\n",
    "# Removendo parênteses e números adjacentes\n",
    "uwu_df['populacao'] = uwu_df['populacao'].str.replace(r'[(]\\d+[)]', '')\n",
    "\n",
    "# O tamanho da população é um valor inteiro, sem decimal - removendo parte decimal\n",
    "uwu_df['populacao'] = uwu_df['populacao'].str.split('.').str[0]\n",
    "\n",
    "# Transformando os valores de população em numérico\n",
    "uwu_df['populacao'] = sad_panda_uwu.to_numeric(uwu_df['populacao'], errors='coerce')\n",
    "\n",
    "# df.mode = df.mod\n",
    "# df.columns\n",
    "# df['populacao'].mode = df.mod\n",
    "# df['populacao'].mode()\n",
    "\n",
    "# Verificar se as alterações foram feitas corretamente\n",
    "print(\"Soma da população brasileira:\" , uwu_df['populacao'].sum())\n",
    "print(uwu_df.tail())"
   ]
  },
  {
   "cell_type": "markdown",
   "metadata": {},
   "source": [
    "## 1\\ investigar nome"
   ]
  },
  {
   "cell_type": "code",
   "execution_count": 25,
   "metadata": {},
   "outputs": [
    {
     "data": {
      "text/html": [
       "<div>\n",
       "<style scoped>\n",
       "    .dataframe tbody tr th:only-of-type {\n",
       "        vertical-align: middle;\n",
       "    }\n",
       "\n",
       "    .dataframe tbody tr th {\n",
       "        vertical-align: top;\n",
       "    }\n",
       "\n",
       "    .dataframe thead th {\n",
       "        text-align: right;\n",
       "    }\n",
       "</style>\n",
       "<table border=\"1\" class=\"dataframe\">\n",
       "  <thead>\n",
       "    <tr style=\"text-align: right;\">\n",
       "      <th></th>\n",
       "      <th>regiao</th>\n",
       "      <th>estado</th>\n",
       "      <th>municipio</th>\n",
       "      <th>codigo_mun</th>\n",
       "      <th>capital</th>\n",
       "      <th>porte</th>\n",
       "      <th>populacao</th>\n",
       "      <th>area</th>\n",
       "      <th>densidade_dem</th>\n",
       "      <th>pib</th>\n",
       "      <th>...</th>\n",
       "      <th>exp_anos_estudo</th>\n",
       "      <th>nota_ciencias</th>\n",
       "      <th>nota_humanas</th>\n",
       "      <th>nota_linguagem</th>\n",
       "      <th>nota_mat</th>\n",
       "      <th>nota_redacao</th>\n",
       "      <th>idhm</th>\n",
       "      <th>ranking_igm</th>\n",
       "      <th>indice_governanca</th>\n",
       "      <th>info_parênteses</th>\n",
       "    </tr>\n",
       "  </thead>\n",
       "  <tbody>\n",
       "    <tr>\n",
       "      <th>0</th>\n",
       "      <td>SUDESTE</td>\n",
       "      <td>SP</td>\n",
       "      <td>ILHABELA</td>\n",
       "      <td>3520400</td>\n",
       "      <td>0</td>\n",
       "      <td>Pequeno porte 2</td>\n",
       "      <td>320782</td>\n",
       "      <td>347.52</td>\n",
       "      <td>81.1</td>\n",
       "      <td>3256711.64</td>\n",
       "      <td>...</td>\n",
       "      <td>10.63</td>\n",
       "      <td>482.054348</td>\n",
       "      <td>541.226087</td>\n",
       "      <td>530.651111</td>\n",
       "      <td>507.952778</td>\n",
       "      <td>499.361111</td>\n",
       "      <td>0.747</td>\n",
       "      <td>1º</td>\n",
       "      <td>0.767</td>\n",
       "      <td>NaN</td>\n",
       "    </tr>\n",
       "    <tr>\n",
       "      <th>1</th>\n",
       "      <td>SUDESTE</td>\n",
       "      <td>SP</td>\n",
       "      <td>SANTANA DE PARNAIBA</td>\n",
       "      <td>3547304</td>\n",
       "      <td>0</td>\n",
       "      <td>Grande porte</td>\n",
       "      <td>1290261</td>\n",
       "      <td>179.95</td>\n",
       "      <td>604.7</td>\n",
       "      <td>7373602.99</td>\n",
       "      <td>...</td>\n",
       "      <td>10.01</td>\n",
       "      <td>483.997625</td>\n",
       "      <td>542.760422</td>\n",
       "      <td>535.765129</td>\n",
       "      <td>499.911091</td>\n",
       "      <td>547.506655</td>\n",
       "      <td>0.885</td>\n",
       "      <td>2º</td>\n",
       "      <td>0.759</td>\n",
       "      <td>NaN</td>\n",
       "    </tr>\n",
       "    <tr>\n",
       "      <th>2</th>\n",
       "      <td>SUL</td>\n",
       "      <td>SC</td>\n",
       "      <td>BOMBINHAS</td>\n",
       "      <td>4202453</td>\n",
       "      <td>0</td>\n",
       "      <td>Pequeno porte 1</td>\n",
       "      <td>180052</td>\n",
       "      <td>35.92</td>\n",
       "      <td>398</td>\n",
       "      <td>377357.32</td>\n",
       "      <td>...</td>\n",
       "      <td>10.44</td>\n",
       "      <td>472.105607</td>\n",
       "      <td>541.949533</td>\n",
       "      <td>523.251923</td>\n",
       "      <td>474.506731</td>\n",
       "      <td>515.000000</td>\n",
       "      <td>0.807</td>\n",
       "      <td>3º</td>\n",
       "      <td>0.758</td>\n",
       "      <td>NaN</td>\n",
       "    </tr>\n",
       "  </tbody>\n",
       "</table>\n",
       "<p>3 rows × 33 columns</p>\n",
       "</div>"
      ],
      "text/plain": [
       "    regiao estado            municipio  codigo_mun  capital            porte  \\\n",
       "0  SUDESTE     SP             ILHABELA     3520400        0  Pequeno porte 2   \n",
       "1  SUDESTE     SP  SANTANA DE PARNAIBA     3547304        0     Grande porte   \n",
       "2      SUL     SC            BOMBINHAS     4202453        0  Pequeno porte 1   \n",
       "\n",
       "   populacao    area densidade_dem         pib  ...  exp_anos_estudo  \\\n",
       "0     320782  347.52          81.1  3256711.64  ...            10.63   \n",
       "1    1290261  179.95         604.7  7373602.99  ...            10.01   \n",
       "2     180052   35.92           398   377357.32  ...            10.44   \n",
       "\n",
       "   nota_ciencias  nota_humanas  nota_linguagem    nota_mat  nota_redacao  \\\n",
       "0     482.054348    541.226087      530.651111  507.952778    499.361111   \n",
       "1     483.997625    542.760422      535.765129  499.911091    547.506655   \n",
       "2     472.105607    541.949533      523.251923  474.506731    515.000000   \n",
       "\n",
       "    idhm  ranking_igm  indice_governanca  info_parênteses  \n",
       "0  0.747           1º              0.767              NaN  \n",
       "1  0.885           2º              0.759              NaN  \n",
       "2  0.807           3º              0.758              NaN  \n",
       "\n",
       "[3 rows x 33 columns]"
      ]
     },
     "execution_count": 25,
     "metadata": {},
     "output_type": "execute_result"
    }
   ],
   "source": [
    "uwu_df.head(3)"
   ]
  },
  {
   "cell_type": "markdown",
   "metadata": {},
   "source": [
    "#####  olhando a tabela a cima, podemos perceber que nota_mat é nota de matematica, densidade_dem é densidade demografica"
   ]
  },
  {
   "cell_type": "markdown",
   "metadata": {},
   "source": [
    "## 2\\ fazer chekagem do arquivo"
   ]
  },
  {
   "cell_type": "code",
   "execution_count": 26,
   "metadata": {},
   "outputs": [],
   "source": [
    "# somar coluna\n",
    "uwu_df[\"codigo_mun\"].sum()\n",
    "# abrir arquivo\n",
    "df_panda = sad_panda_uwu.read_csv('igm_modificado.csv', sep=\",\") \n",
    "# copiar dataframe\n",
    "outro_db = uwu_df.copy()\n",
    "\n"
   ]
  },
  {
   "cell_type": "markdown",
   "metadata": {},
   "source": [
    "## 3\\ tipos de dados que encontramos"
   ]
  },
  {
   "cell_type": "code",
   "execution_count": 27,
   "metadata": {},
   "outputs": [
    {
     "data": {
      "text/html": [
       "<div>\n",
       "<style scoped>\n",
       "    .dataframe tbody tr th:only-of-type {\n",
       "        vertical-align: middle;\n",
       "    }\n",
       "\n",
       "    .dataframe tbody tr th {\n",
       "        vertical-align: top;\n",
       "    }\n",
       "\n",
       "    .dataframe thead th {\n",
       "        text-align: right;\n",
       "    }\n",
       "</style>\n",
       "<table border=\"1\" class=\"dataframe\">\n",
       "  <thead>\n",
       "    <tr style=\"text-align: right;\">\n",
       "      <th></th>\n",
       "      <th>regiao</th>\n",
       "      <th>estado</th>\n",
       "      <th>municipio</th>\n",
       "      <th>codigo_mun</th>\n",
       "      <th>capital</th>\n",
       "      <th>porte</th>\n",
       "      <th>populacao</th>\n",
       "      <th>area</th>\n",
       "      <th>densidade_dem</th>\n",
       "      <th>pib</th>\n",
       "      <th>...</th>\n",
       "      <th>exp_anos_estudo</th>\n",
       "      <th>nota_ciencias</th>\n",
       "      <th>nota_humanas</th>\n",
       "      <th>nota_linguagem</th>\n",
       "      <th>nota_mat</th>\n",
       "      <th>nota_redacao</th>\n",
       "      <th>idhm</th>\n",
       "      <th>ranking_igm</th>\n",
       "      <th>indice_governanca</th>\n",
       "      <th>info_parênteses</th>\n",
       "    </tr>\n",
       "  </thead>\n",
       "  <tbody>\n",
       "    <tr>\n",
       "      <th>0</th>\n",
       "      <td>SUDESTE</td>\n",
       "      <td>SP</td>\n",
       "      <td>ILHABELA</td>\n",
       "      <td>3520400</td>\n",
       "      <td>0</td>\n",
       "      <td>Pequeno porte 2</td>\n",
       "      <td>320782</td>\n",
       "      <td>347.52</td>\n",
       "      <td>81.1</td>\n",
       "      <td>3256711.64</td>\n",
       "      <td>...</td>\n",
       "      <td>10.63</td>\n",
       "      <td>482.054348</td>\n",
       "      <td>541.226087</td>\n",
       "      <td>530.651111</td>\n",
       "      <td>507.952778</td>\n",
       "      <td>499.361111</td>\n",
       "      <td>0.747</td>\n",
       "      <td>1º</td>\n",
       "      <td>0.767</td>\n",
       "      <td>NaN</td>\n",
       "    </tr>\n",
       "    <tr>\n",
       "      <th>1</th>\n",
       "      <td>SUDESTE</td>\n",
       "      <td>SP</td>\n",
       "      <td>SANTANA DE PARNAIBA</td>\n",
       "      <td>3547304</td>\n",
       "      <td>0</td>\n",
       "      <td>Grande porte</td>\n",
       "      <td>1290261</td>\n",
       "      <td>179.95</td>\n",
       "      <td>604.7</td>\n",
       "      <td>7373602.99</td>\n",
       "      <td>...</td>\n",
       "      <td>10.01</td>\n",
       "      <td>483.997625</td>\n",
       "      <td>542.760422</td>\n",
       "      <td>535.765129</td>\n",
       "      <td>499.911091</td>\n",
       "      <td>547.506655</td>\n",
       "      <td>0.885</td>\n",
       "      <td>2º</td>\n",
       "      <td>0.759</td>\n",
       "      <td>NaN</td>\n",
       "    </tr>\n",
       "    <tr>\n",
       "      <th>2</th>\n",
       "      <td>SUL</td>\n",
       "      <td>SC</td>\n",
       "      <td>BOMBINHAS</td>\n",
       "      <td>4202453</td>\n",
       "      <td>0</td>\n",
       "      <td>Pequeno porte 1</td>\n",
       "      <td>180052</td>\n",
       "      <td>35.92</td>\n",
       "      <td>398</td>\n",
       "      <td>377357.32</td>\n",
       "      <td>...</td>\n",
       "      <td>10.44</td>\n",
       "      <td>472.105607</td>\n",
       "      <td>541.949533</td>\n",
       "      <td>523.251923</td>\n",
       "      <td>474.506731</td>\n",
       "      <td>515.000000</td>\n",
       "      <td>0.807</td>\n",
       "      <td>3º</td>\n",
       "      <td>0.758</td>\n",
       "      <td>NaN</td>\n",
       "    </tr>\n",
       "  </tbody>\n",
       "</table>\n",
       "<p>3 rows × 33 columns</p>\n",
       "</div>"
      ],
      "text/plain": [
       "    regiao estado            municipio  codigo_mun  capital            porte  \\\n",
       "0  SUDESTE     SP             ILHABELA     3520400        0  Pequeno porte 2   \n",
       "1  SUDESTE     SP  SANTANA DE PARNAIBA     3547304        0     Grande porte   \n",
       "2      SUL     SC            BOMBINHAS     4202453        0  Pequeno porte 1   \n",
       "\n",
       "   populacao    area densidade_dem         pib  ...  exp_anos_estudo  \\\n",
       "0     320782  347.52          81.1  3256711.64  ...            10.63   \n",
       "1    1290261  179.95         604.7  7373602.99  ...            10.01   \n",
       "2     180052   35.92           398   377357.32  ...            10.44   \n",
       "\n",
       "   nota_ciencias  nota_humanas  nota_linguagem    nota_mat  nota_redacao  \\\n",
       "0     482.054348    541.226087      530.651111  507.952778    499.361111   \n",
       "1     483.997625    542.760422      535.765129  499.911091    547.506655   \n",
       "2     472.105607    541.949533      523.251923  474.506731    515.000000   \n",
       "\n",
       "    idhm  ranking_igm  indice_governanca  info_parênteses  \n",
       "0  0.747           1º              0.767              NaN  \n",
       "1  0.885           2º              0.759              NaN  \n",
       "2  0.807           3º              0.758              NaN  \n",
       "\n",
       "[3 rows x 33 columns]"
      ]
     },
     "execution_count": 27,
     "metadata": {},
     "output_type": "execute_result"
    }
   ],
   "source": [
    "uwu_df.head(3)"
   ]
  },
  {
   "cell_type": "markdown",
   "metadata": {},
   "source": [
    "### olhando a tabela a cima <b> olhando a tabela a cima :point_up:</b>, podemos perceber que temos o tipo `float`, `string`, `None` e `int128` nas tabelas acimas <br> sendo<br> `float` em `area`,<br> `string` em `estado`,<br> `None` em `populacao`,<br> `int128` em `codigo_mun`"
   ]
  },
  {
   "cell_type": "markdown",
   "metadata": {},
   "source": [
    "## 4\\ Frequencia absoluta e percentugal"
   ]
  },
  {
   "cell_type": "code",
   "execution_count": 28,
   "metadata": {},
   "outputs": [
    {
     "name": "stdout",
     "output_type": "stream",
     "text": [
      "variavel01 SP aparecu 645\n",
      "variavel02 RJ aparecu 92\n",
      "variavel01 SP percentual 6.45\n",
      "variavel01 SP percentual 0.92\n"
     ]
    }
   ],
   "source": [
    "variavel01 = \"SP\"\n",
    "variavel02 = \"RJ\"\n",
    "vezes_variabvel_01 = uwu_df[uwu_df.estado.isin([variavel01])]\n",
    "vezes_variabvel_02 = uwu_df[uwu_df.estado.isin([variavel02])] #.filter(like=variavel02).count()\n",
    "print(\"variavel01 \"+variavel01+\" aparecu \"+str(vezes_variabvel_01[\"estado\"].count()))\n",
    "print(\"variavel02 \"+variavel02+\" aparecu \"+str(vezes_variabvel_02[\"estado\"].count()))\n",
    "print(\"variavel01 \"+variavel01+\" percentual \"+ str(vezes_variabvel_01[\"estado\"].count()/100))\n",
    "print(\"variavel01 \"+variavel01+\" percentual \"+ str(vezes_variabvel_02[\"estado\"].count()/100))"
   ]
  },
  {
   "cell_type": "markdown",
   "metadata": {},
   "source": [
    "## 5\\ pegar os quartil "
   ]
  },
  {
   "cell_type": "code",
   "execution_count": 29,
   "metadata": {},
   "outputs": [
    {
     "name": "stdout",
     "output_type": "stream",
     "text": [
      "primeiro_quartil : 570706191.59\n",
      "terceiro_quartil : 69419.19300000001\n"
     ]
    }
   ],
   "source": [
    "# porcentagem = 1000\n",
    "# quaritil1 = 1\n",
    "primeiro_quartil = uwu_df[\"pib\"].astype(float).quantile(1)\n",
    "terceiro_quartil = uwu_df[\"pib\"].astype(float).quantile(0.3)\n",
    "print(\"primeiro_quartil : \"+str(primeiro_quartil))\n",
    "print(\"terceiro_quartil : \"+str(terceiro_quartil))"
   ]
  },
  {
   "cell_type": "markdown",
   "metadata": {},
   "source": [
    "## 6\\ destribuicao"
   ]
  },
  {
   "cell_type": "code",
   "execution_count": 30,
   "metadata": {},
   "outputs": [
    {
     "name": "stdout",
     "output_type": "stream",
     "text": [
      "604.508020897357\n",
      "29.480000000000018\n",
      "537.48\n",
      "True\n",
      "a destribuicao eh positiva\n"
     ]
    }
   ],
   "source": [
    "media = uwu_df['gasto_pc_saude'].mean()\n",
    "moda = uwu_df['gasto_pc_saude'].mod(30)[0]\n",
    "mediana = uwu_df['gasto_pc_saude'].median()\n",
    "print(media)\n",
    "print(moda)\n",
    "print(mediana)\n",
    "print(moda<mediana<media)\n",
    "print(\"a destribuicao eh positiva\")\n"
   ]
  },
  {
   "cell_type": "markdown",
   "metadata": {},
   "source": [
    "## 7\\ dados faltantes"
   ]
  },
  {
   "cell_type": "code",
   "execution_count": 31,
   "metadata": {},
   "outputs": [
    {
     "name": "stdout",
     "output_type": "stream",
     "text": [
      "True\n",
      "ele possui dados faltantes\n",
      "False\n",
      "ele possui nao possui mais dados faltantes\n"
     ]
    }
   ],
   "source": [
    "# substituir pela mediana\n",
    "print(uwu_df['exp_vida'].hasnans)\n",
    "print(\"ele possui dados faltantes\")\n",
    "uwu_df['exp_vida'].median()\n",
    "uwu_df['exp_vida'] = uwu_df[uwu_df['exp_vida'].filter(like=\"nan\")] = uwu_df['exp_vida'].median()\n",
    "print(uwu_df['exp_vida'].hasnans)\n",
    "print(\"ele possui nao possui mais dados faltantes\")"
   ]
  },
  {
   "cell_type": "code",
   "execution_count": 32,
   "metadata": {},
   "outputs": [
    {
     "name": "stdout",
     "output_type": "stream",
     "text": [
      "True\n",
      "densidade_demo tbm tem numeros faltantes\n",
      "False\n",
      "densidade_demo nao tem numeros faltantes\n"
     ]
    }
   ],
   "source": [
    "print(uwu_df['densidade_dem'].hasnans)\n",
    "print(\"densidade_demo tbm tem numeros faltantes\")\n",
    "uwu_df['densidade_dem'] = uwu_df[uwu_df['densidade_dem'].filter(like=\"nan\")] = 0\n",
    "print(uwu_df['densidade_dem'].hasnans)\n",
    "print(\"densidade_demo nao tem numeros faltantes\")"
   ]
  },
  {
   "cell_type": "markdown",
   "metadata": {},
   "source": [
    "#### nesse caso, colocamos zero pois nao podemos colocar a media ou modiana pois isso iria deixar a correação de forma invertida podendo resultar em dados sem sentido entre eles"
   ]
  },
  {
   "cell_type": "markdown",
   "metadata": {},
   "source": [
    "## 8\\ grafico de pizza "
   ]
  },
  {
   "cell_type": "code",
   "execution_count": 33,
   "metadata": {},
   "outputs": [
    {
     "data": {
      "text/plain": [
       "array([<Axes: ylabel='pib'>], dtype=object)"
      ]
     },
     "execution_count": 33,
     "metadata": {},
     "output_type": "execute_result"
    },
    {
     "data": {
      "image/png": "[encoded data removed]",
      "text/plain": [
       "<Figure size 640x480 with 1 Axes>"
      ]
     },
     "metadata": {},
     "output_type": "display_data"
    }
   ],
   "source": [
    "# agrupa e conta o todal do pib das regioes\n",
    "uwu_df[['pib','regiao']].groupby('regiao').count().plot.pie(y='pib', subplots='regiao')"
   ]
  },
  {
   "cell_type": "markdown",
   "metadata": {},
   "source": [
    "### de acordo com a iamgem a cima, o sudete tem o maior pib do brasil e o nordesta tem um pib bem parecido"
   ]
  },
  {
   "cell_type": "markdown",
   "metadata": {},
   "source": [
    "## 9\\ grafico de plotagem"
   ]
  },
  {
   "cell_type": "code",
   "execution_count": 34,
   "metadata": {},
   "outputs": [
    {
     "data": {
      "text/plain": [
       "[<matplotlib.lines.Line2D at 0x7f349eb271c0>]"
      ]
     },
     "execution_count": 34,
     "metadata": {},
     "output_type": "execute_result"
    },
    {
     "data": {
      "image/png": "[encoded data removed]",
      "text/plain": [
       "<Figure size 640x480 with 1 Axes>"
      ]
     },
     "metadata": {},
     "output_type": "display_data"
    }
   ],
   "source": [
    "plt.plot(uwu_df[\"gasto_pc_educacao\"],uwu_df[\"nota_redacao\"], 'o')"
   ]
  },
  {
   "cell_type": "markdown",
   "metadata": {},
   "source": [
    "### como visto pela imagem acima, gasto com educacacao nao tem reação com nota da redacacao"
   ]
  },
  {
   "cell_type": "markdown",
   "metadata": {},
   "source": [
    "## 2°parte"
   ]
  },
  {
   "cell_type": "markdown",
   "metadata": {},
   "source": [
    "### de acordo com o grafido pizza, vamos compara a 2 regiao mais rica com a regiao mais pobre"
   ]
  },
  {
   "cell_type": "code",
   "execution_count": 35,
   "metadata": {},
   "outputs": [
    {
     "data": {
      "text/html": [
       "<div>\n",
       "<style scoped>\n",
       "    .dataframe tbody tr th:only-of-type {\n",
       "        vertical-align: middle;\n",
       "    }\n",
       "\n",
       "    .dataframe tbody tr th {\n",
       "        vertical-align: top;\n",
       "    }\n",
       "\n",
       "    .dataframe thead th {\n",
       "        text-align: right;\n",
       "    }\n",
       "</style>\n",
       "<table border=\"1\" class=\"dataframe\">\n",
       "  <thead>\n",
       "    <tr style=\"text-align: right;\">\n",
       "      <th></th>\n",
       "      <th>regiao</th>\n",
       "      <th>estado</th>\n",
       "      <th>municipio</th>\n",
       "      <th>codigo_mun</th>\n",
       "      <th>capital</th>\n",
       "      <th>porte</th>\n",
       "      <th>populacao</th>\n",
       "      <th>area</th>\n",
       "      <th>densidade_dem</th>\n",
       "      <th>pib</th>\n",
       "      <th>...</th>\n",
       "      <th>exp_anos_estudo</th>\n",
       "      <th>nota_ciencias</th>\n",
       "      <th>nota_humanas</th>\n",
       "      <th>nota_linguagem</th>\n",
       "      <th>nota_mat</th>\n",
       "      <th>nota_redacao</th>\n",
       "      <th>idhm</th>\n",
       "      <th>ranking_igm</th>\n",
       "      <th>indice_governanca</th>\n",
       "      <th>info_parênteses</th>\n",
       "    </tr>\n",
       "  </thead>\n",
       "  <tbody>\n",
       "    <tr>\n",
       "      <th>67</th>\n",
       "      <td>NORDESTE</td>\n",
       "      <td>PE</td>\n",
       "      <td>IPOJUCA</td>\n",
       "      <td>2607208</td>\n",
       "      <td>0</td>\n",
       "      <td>Médio porte</td>\n",
       "      <td>920965</td>\n",
       "      <td>527.11</td>\n",
       "      <td>0</td>\n",
       "      <td>8411558.28</td>\n",
       "      <td>...</td>\n",
       "      <td>8.65</td>\n",
       "      <td>463.458278</td>\n",
       "      <td>505.182119</td>\n",
       "      <td>503.076629</td>\n",
       "      <td>449.237753</td>\n",
       "      <td>480.988764</td>\n",
       "      <td>0.420</td>\n",
       "      <td>68º</td>\n",
       "      <td>0.659</td>\n",
       "      <td>NaN</td>\n",
       "    </tr>\n",
       "    <tr>\n",
       "      <th>77</th>\n",
       "      <td>NORDESTE</td>\n",
       "      <td>CE</td>\n",
       "      <td>FORTALEZA</td>\n",
       "      <td>2304400</td>\n",
       "      <td>1</td>\n",
       "      <td>Grande porte</td>\n",
       "      <td>206090716</td>\n",
       "      <td>314.93</td>\n",
       "      <td>0</td>\n",
       "      <td>49745920.35</td>\n",
       "      <td>...</td>\n",
       "      <td>10.04</td>\n",
       "      <td>492.416843</td>\n",
       "      <td>542.762946</td>\n",
       "      <td>525.144742</td>\n",
       "      <td>500.962286</td>\n",
       "      <td>574.679852</td>\n",
       "      <td>0.742</td>\n",
       "      <td>78º</td>\n",
       "      <td>0.656</td>\n",
       "      <td>NaN</td>\n",
       "    </tr>\n",
       "    <tr>\n",
       "      <th>100</th>\n",
       "      <td>NORTE</td>\n",
       "      <td>TO</td>\n",
       "      <td>LAJEADO</td>\n",
       "      <td>1712009</td>\n",
       "      <td>0</td>\n",
       "      <td>Pequeno porte 1</td>\n",
       "      <td>30059</td>\n",
       "      <td>322.49</td>\n",
       "      <td>0</td>\n",
       "      <td>43355.27</td>\n",
       "      <td>...</td>\n",
       "      <td>8.18</td>\n",
       "      <td>456.891176</td>\n",
       "      <td>496.923529</td>\n",
       "      <td>490.537500</td>\n",
       "      <td>441.353125</td>\n",
       "      <td>501.875000</td>\n",
       "      <td>0.554</td>\n",
       "      <td>101º</td>\n",
       "      <td>0.650</td>\n",
       "      <td>NaN</td>\n",
       "    </tr>\n",
       "    <tr>\n",
       "      <th>106</th>\n",
       "      <td>NORTE</td>\n",
       "      <td>TO</td>\n",
       "      <td>ARAGUAINA</td>\n",
       "      <td>1702109</td>\n",
       "      <td>0</td>\n",
       "      <td>Grande porte</td>\n",
       "      <td>1730112</td>\n",
       "      <td>4,000.42</td>\n",
       "      <td>0</td>\n",
       "      <td>2878033.20</td>\n",
       "      <td>...</td>\n",
       "      <td>10.05</td>\n",
       "      <td>472.211180</td>\n",
       "      <td>518.720553</td>\n",
       "      <td>503.902499</td>\n",
       "      <td>474.276409</td>\n",
       "      <td>528.928530</td>\n",
       "      <td>0.737</td>\n",
       "      <td>107º</td>\n",
       "      <td>0.648</td>\n",
       "      <td>NaN</td>\n",
       "    </tr>\n",
       "    <tr>\n",
       "      <th>236</th>\n",
       "      <td>NORDESTE</td>\n",
       "      <td>BA</td>\n",
       "      <td>MATA DE SAO JOAO</td>\n",
       "      <td>2921005</td>\n",
       "      <td>0</td>\n",
       "      <td>Pequeno porte 2</td>\n",
       "      <td>460392</td>\n",
       "      <td>633.2</td>\n",
       "      <td>0</td>\n",
       "      <td>981822.66</td>\n",
       "      <td>...</td>\n",
       "      <td>8.65</td>\n",
       "      <td>448.619011</td>\n",
       "      <td>508.202281</td>\n",
       "      <td>493.710305</td>\n",
       "      <td>442.017176</td>\n",
       "      <td>472.366412</td>\n",
       "      <td>0.537</td>\n",
       "      <td>237º</td>\n",
       "      <td>0.622</td>\n",
       "      <td>NaN</td>\n",
       "    </tr>\n",
       "    <tr>\n",
       "      <th>...</th>\n",
       "      <td>...</td>\n",
       "      <td>...</td>\n",
       "      <td>...</td>\n",
       "      <td>...</td>\n",
       "      <td>...</td>\n",
       "      <td>...</td>\n",
       "      <td>...</td>\n",
       "      <td>...</td>\n",
       "      <td>...</td>\n",
       "      <td>...</td>\n",
       "      <td>...</td>\n",
       "      <td>...</td>\n",
       "      <td>...</td>\n",
       "      <td>...</td>\n",
       "      <td>...</td>\n",
       "      <td>...</td>\n",
       "      <td>...</td>\n",
       "      <td>...</td>\n",
       "      <td>...</td>\n",
       "      <td>...</td>\n",
       "      <td>...</td>\n",
       "    </tr>\n",
       "    <tr>\n",
       "      <th>5565</th>\n",
       "      <td>NORTE</td>\n",
       "      <td>TO</td>\n",
       "      <td>RIO DOS BOIS</td>\n",
       "      <td>1718709</td>\n",
       "      <td>0</td>\n",
       "      <td>Pequeno porte 1</td>\n",
       "      <td>20787</td>\n",
       "      <td>845.07</td>\n",
       "      <td>0</td>\n",
       "      <td>27136.71</td>\n",
       "      <td>...</td>\n",
       "      <td>9.26</td>\n",
       "      <td>450.613333</td>\n",
       "      <td>457.100000</td>\n",
       "      <td>473.128571</td>\n",
       "      <td>458.921429</td>\n",
       "      <td>494.285714</td>\n",
       "      <td>0.413</td>\n",
       "      <td>NaN</td>\n",
       "      <td>NaN</td>\n",
       "      <td>NaN</td>\n",
       "    </tr>\n",
       "    <tr>\n",
       "      <th>5566</th>\n",
       "      <td>NORTE</td>\n",
       "      <td>TO</td>\n",
       "      <td>AXIXA DO TOCANTINS</td>\n",
       "      <td>1702901</td>\n",
       "      <td>0</td>\n",
       "      <td>Pequeno porte 1</td>\n",
       "      <td>90741</td>\n",
       "      <td>150.21</td>\n",
       "      <td>0</td>\n",
       "      <td>80205.45</td>\n",
       "      <td>...</td>\n",
       "      <td>10.11</td>\n",
       "      <td>437.360241</td>\n",
       "      <td>470.187952</td>\n",
       "      <td>463.166667</td>\n",
       "      <td>442.091358</td>\n",
       "      <td>444.197531</td>\n",
       "      <td>0.439</td>\n",
       "      <td>NaN</td>\n",
       "      <td>NaN</td>\n",
       "      <td>NaN</td>\n",
       "    </tr>\n",
       "    <tr>\n",
       "      <th>5567</th>\n",
       "      <td>NORTE</td>\n",
       "      <td>TO</td>\n",
       "      <td>FILADELFIA</td>\n",
       "      <td>1707702</td>\n",
       "      <td>0</td>\n",
       "      <td>Pequeno porte 1</td>\n",
       "      <td>80871</td>\n",
       "      <td>1,988.08</td>\n",
       "      <td>0</td>\n",
       "      <td>78500.72</td>\n",
       "      <td>...</td>\n",
       "      <td>9.38</td>\n",
       "      <td>431.231707</td>\n",
       "      <td>456.075610</td>\n",
       "      <td>453.890244</td>\n",
       "      <td>426.578049</td>\n",
       "      <td>399.024390</td>\n",
       "      <td>0.425</td>\n",
       "      <td>NaN</td>\n",
       "      <td>NaN</td>\n",
       "      <td>NaN</td>\n",
       "    </tr>\n",
       "    <tr>\n",
       "      <th>5568</th>\n",
       "      <td>NORTE</td>\n",
       "      <td>TO</td>\n",
       "      <td>PONTE ALTA DO TOCANTINS</td>\n",
       "      <td>1717909</td>\n",
       "      <td>0</td>\n",
       "      <td>Pequeno porte 1</td>\n",
       "      <td>70872</td>\n",
       "      <td>6,491.13</td>\n",
       "      <td>0</td>\n",
       "      <td>59147.57</td>\n",
       "      <td>...</td>\n",
       "      <td>9.07</td>\n",
       "      <td>443.876923</td>\n",
       "      <td>480.917308</td>\n",
       "      <td>465.538462</td>\n",
       "      <td>437.482692</td>\n",
       "      <td>441.153846</td>\n",
       "      <td>0.432</td>\n",
       "      <td>NaN</td>\n",
       "      <td>NaN</td>\n",
       "      <td>NaN</td>\n",
       "    </tr>\n",
       "    <tr>\n",
       "      <th>5569</th>\n",
       "      <td>NORTE</td>\n",
       "      <td>TO</td>\n",
       "      <td>SILVANOPOLIS</td>\n",
       "      <td>1720655</td>\n",
       "      <td>0</td>\n",
       "      <td>Pequeno porte 1</td>\n",
       "      <td>50372</td>\n",
       "      <td>1,258.83</td>\n",
       "      <td>0</td>\n",
       "      <td>77734.86</td>\n",
       "      <td>...</td>\n",
       "      <td>10.36</td>\n",
       "      <td>433.378571</td>\n",
       "      <td>459.132143</td>\n",
       "      <td>469.714286</td>\n",
       "      <td>407.050000</td>\n",
       "      <td>452.857143</td>\n",
       "      <td>NaN</td>\n",
       "      <td>NaN</td>\n",
       "      <td>NaN</td>\n",
       "      <td>NaN</td>\n",
       "    </tr>\n",
       "  </tbody>\n",
       "</table>\n",
       "<p>2244 rows × 33 columns</p>\n",
       "</div>"
      ],
      "text/plain": [
       "        regiao estado                municipio  codigo_mun  capital  \\\n",
       "67    NORDESTE     PE                  IPOJUCA     2607208        0   \n",
       "77    NORDESTE     CE                FORTALEZA     2304400        1   \n",
       "100      NORTE     TO                  LAJEADO     1712009        0   \n",
       "106      NORTE     TO                ARAGUAINA     1702109        0   \n",
       "236   NORDESTE     BA         MATA DE SAO JOAO     2921005        0   \n",
       "...        ...    ...                      ...         ...      ...   \n",
       "5565     NORTE     TO             RIO DOS BOIS     1718709        0   \n",
       "5566     NORTE     TO       AXIXA DO TOCANTINS     1702901        0   \n",
       "5567     NORTE     TO               FILADELFIA     1707702        0   \n",
       "5568     NORTE     TO  PONTE ALTA DO TOCANTINS     1717909        0   \n",
       "5569     NORTE     TO             SILVANOPOLIS     1720655        0   \n",
       "\n",
       "                porte  populacao      area  densidade_dem          pib  ...  \\\n",
       "67        Médio porte     920965    527.11              0   8411558.28  ...   \n",
       "77       Grande porte  206090716    314.93              0  49745920.35  ...   \n",
       "100   Pequeno porte 1      30059    322.49              0     43355.27  ...   \n",
       "106      Grande porte    1730112  4,000.42              0   2878033.20  ...   \n",
       "236   Pequeno porte 2     460392     633.2              0    981822.66  ...   \n",
       "...               ...        ...       ...            ...          ...  ...   \n",
       "5565  Pequeno porte 1      20787    845.07              0     27136.71  ...   \n",
       "5566  Pequeno porte 1      90741    150.21              0     80205.45  ...   \n",
       "5567  Pequeno porte 1      80871  1,988.08              0     78500.72  ...   \n",
       "5568  Pequeno porte 1      70872  6,491.13              0     59147.57  ...   \n",
       "5569  Pequeno porte 1      50372  1,258.83              0     77734.86  ...   \n",
       "\n",
       "      exp_anos_estudo  nota_ciencias  nota_humanas  nota_linguagem  \\\n",
       "67               8.65     463.458278    505.182119      503.076629   \n",
       "77              10.04     492.416843    542.762946      525.144742   \n",
       "100              8.18     456.891176    496.923529      490.537500   \n",
       "106             10.05     472.211180    518.720553      503.902499   \n",
       "236              8.65     448.619011    508.202281      493.710305   \n",
       "...               ...            ...           ...             ...   \n",
       "5565             9.26     450.613333    457.100000      473.128571   \n",
       "5566            10.11     437.360241    470.187952      463.166667   \n",
       "5567             9.38     431.231707    456.075610      453.890244   \n",
       "5568             9.07     443.876923    480.917308      465.538462   \n",
       "5569            10.36     433.378571    459.132143      469.714286   \n",
       "\n",
       "        nota_mat  nota_redacao   idhm  ranking_igm  indice_governanca  \\\n",
       "67    449.237753    480.988764  0.420          68º              0.659   \n",
       "77    500.962286    574.679852  0.742          78º              0.656   \n",
       "100   441.353125    501.875000  0.554         101º              0.650   \n",
       "106   474.276409    528.928530  0.737         107º              0.648   \n",
       "236   442.017176    472.366412  0.537         237º              0.622   \n",
       "...          ...           ...    ...          ...                ...   \n",
       "5565  458.921429    494.285714  0.413          NaN                NaN   \n",
       "5566  442.091358    444.197531  0.439          NaN                NaN   \n",
       "5567  426.578049    399.024390  0.425          NaN                NaN   \n",
       "5568  437.482692    441.153846  0.432          NaN                NaN   \n",
       "5569  407.050000    452.857143    NaN          NaN                NaN   \n",
       "\n",
       "      info_parênteses  \n",
       "67                NaN  \n",
       "77                NaN  \n",
       "100               NaN  \n",
       "106               NaN  \n",
       "236               NaN  \n",
       "...               ...  \n",
       "5565              NaN  \n",
       "5566              NaN  \n",
       "5567              NaN  \n",
       "5568              NaN  \n",
       "5569              NaN  \n",
       "\n",
       "[2244 rows x 33 columns]"
      ]
     },
     "execution_count": 35,
     "metadata": {},
     "output_type": "execute_result"
    }
   ],
   "source": [
    "for index,i in uwu_df.iterrows():\n",
    "    if i['regiao'] not in [\"NORDESTE\", \"NORTE\"]:\n",
    "        uwu_df = uwu_df.drop(index)\n",
    "uwu_df"
   ]
  },
  {
   "cell_type": "code",
   "execution_count": 36,
   "metadata": {},
   "outputs": [
    {
     "data": {
      "text/plain": [
       "array([<Axes: ylabel='exp_anos_estudo'>], dtype=object)"
      ]
     },
     "execution_count": 36,
     "metadata": {},
     "output_type": "execute_result"
    },
    {
     "data": {
      "image/png": "[encoded data removed]",
      "text/plain": [
       "<Figure size 640x480 with 1 Axes>"
      ]
     },
     "metadata": {},
     "output_type": "display_data"
    },
    {
     "data": {
      "image/png": "[encoded data removed]",
      "text/plain": [
       "<Figure size 640x480 with 1 Axes>"
      ]
     },
     "metadata": {},
     "output_type": "display_data"
    },
    {
     "data": {
      "image/png": "[encoded data removed]",
      "text/plain": [
       "<Figure size 640x480 with 1 Axes>"
      ]
     },
     "metadata": {},
     "output_type": "display_data"
    },
    {
     "data": {
      "image/png": "[encoded data removed]",
      "text/plain": [
       "<Figure size 640x480 with 1 Axes>"
      ]
     },
     "metadata": {},
     "output_type": "display_data"
    }
   ],
   "source": [
    "uwu_df[['area','regiao']].groupby('regiao').count().plot.pie(y='area', subplots='regiao')\n",
    "uwu_df[['nota_ciencias','regiao']].groupby('regiao').std().plot.pie(y='nota_ciencias', subplots='regiao')\n",
    "uwu_df[['nota_linguagem','regiao']].groupby('regiao').std().plot.pie(y='nota_linguagem', subplots='regiao')\n",
    "uwu_df[['exp_anos_estudo','regiao']].groupby('regiao').std().plot.pie(y='exp_anos_estudo', subplots='regiao')"
   ]
  },
  {
   "cell_type": "markdown",
   "metadata": {},
   "source": [
    "### como interpretado, mesmo o norte sendo muito mais pobre do que o nordetete, ele nao é tao diferente "
   ]
  }
 ],
 "metadata": {
  "kernelspec": {
   "display_name": "Python 3",
   "language": "python",
   "name": "python3"
  },
  "language_info": {
   "codemirror_mode": {
    "name": "ipython",
    "version": 3
   },
   "file_extension": ".py",
   "mimetype": "text/x-python",
   "name": "python",
   "nbconvert_exporter": "python",
   "pygments_lexer": "ipython3",
   "version": "3.10.12"
  },
  "orig_nbformat": 4
 },
 "nbformat": 4,
 "nbformat_minor": 2
}
